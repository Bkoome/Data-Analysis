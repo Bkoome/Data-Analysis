{
 "cells": [
  {
   "cell_type": "code",
   "execution_count": 1,
   "metadata": {},
   "outputs": [],
   "source": [
    "import pandas as pd\n",
    "import matplotlib.pyplot as plt\n",
    "import math\n",
    "import seaborn as sns\n",
    "import numpy as np"
   ]
  },
  {
   "cell_type": "code",
   "execution_count": 2,
   "metadata": {},
   "outputs": [
    {
     "data": {
      "text/html": [
       "<div>\n",
       "<style scoped>\n",
       "    .dataframe tbody tr th:only-of-type {\n",
       "        vertical-align: middle;\n",
       "    }\n",
       "\n",
       "    .dataframe tbody tr th {\n",
       "        vertical-align: top;\n",
       "    }\n",
       "\n",
       "    .dataframe thead th {\n",
       "        text-align: right;\n",
       "    }\n",
       "</style>\n",
       "<table border=\"1\" class=\"dataframe\">\n",
       "  <thead>\n",
       "    <tr style=\"text-align: right;\">\n",
       "      <th></th>\n",
       "      <th>Company</th>\n",
       "      <th>Shares</th>\n",
       "      <th>Ticker</th>\n",
       "      <th>Sector</th>\n",
       "      <th>Mid-price (p)</th>\n",
       "      <th>Change</th>\n",
       "      <th>Our view</th>\n",
       "      <th>Brokers</th>\n",
       "      <th>Strong Buy</th>\n",
       "      <th>Buy</th>\n",
       "      <th>Neutral</th>\n",
       "      <th>Sell</th>\n",
       "      <th>Strong Sell</th>\n",
       "      <th>Recommendation</th>\n",
       "    </tr>\n",
       "  </thead>\n",
       "  <tbody>\n",
       "    <tr>\n",
       "      <th>0</th>\n",
       "      <td>3i</td>\n",
       "      <td>4812</td>\n",
       "      <td>III</td>\n",
       "      <td>Financial Services</td>\n",
       "      <td>1,099.50</td>\n",
       "      <td>0.0171</td>\n",
       "      <td>Hold</td>\n",
       "      <td>5</td>\n",
       "      <td>NaN</td>\n",
       "      <td>4</td>\n",
       "      <td>1</td>\n",
       "      <td>0</td>\n",
       "      <td>0</td>\n",
       "      <td>Buy</td>\n",
       "    </tr>\n",
       "    <tr>\n",
       "      <th>1</th>\n",
       "      <td>Admiral Group</td>\n",
       "      <td>1309</td>\n",
       "      <td>ADM</td>\n",
       "      <td>Nonlife Insurance</td>\n",
       "      <td>2,115.00</td>\n",
       "      <td>-0.42%</td>\n",
       "      <td>Hold</td>\n",
       "      <td>18</td>\n",
       "      <td>NaN</td>\n",
       "      <td>2</td>\n",
       "      <td>6</td>\n",
       "      <td>7</td>\n",
       "      <td>3</td>\n",
       "      <td>Underweight</td>\n",
       "    </tr>\n",
       "    <tr>\n",
       "      <th>2</th>\n",
       "      <td>Anglo American plc</td>\n",
       "      <td>5349</td>\n",
       "      <td>AAL</td>\n",
       "      <td>Mining</td>\n",
       "      <td>1,744.00</td>\n",
       "      <td>0.0154</td>\n",
       "      <td>Hold</td>\n",
       "      <td>24</td>\n",
       "      <td>NaN</td>\n",
       "      <td>15</td>\n",
       "      <td>6</td>\n",
       "      <td>2</td>\n",
       "      <td>0</td>\n",
       "      <td>Buy</td>\n",
       "    </tr>\n",
       "    <tr>\n",
       "      <th>3</th>\n",
       "      <td>Antofagasta</td>\n",
       "      <td>3940</td>\n",
       "      <td>ANTO</td>\n",
       "      <td>Mining</td>\n",
       "      <td>848.2</td>\n",
       "      <td>0.0326</td>\n",
       "      <td>Hold</td>\n",
       "      <td>21</td>\n",
       "      <td>NaN</td>\n",
       "      <td>8</td>\n",
       "      <td>9</td>\n",
       "      <td>3</td>\n",
       "      <td>0</td>\n",
       "      <td>Overweight</td>\n",
       "    </tr>\n",
       "    <tr>\n",
       "      <th>4</th>\n",
       "      <td>Ashtead Group</td>\n",
       "      <td>9769</td>\n",
       "      <td>AHT</td>\n",
       "      <td>Support Services</td>\n",
       "      <td>2,207.00</td>\n",
       "      <td>0.0347</td>\n",
       "      <td>Buy</td>\n",
       "      <td>17</td>\n",
       "      <td>NaN</td>\n",
       "      <td>12</td>\n",
       "      <td>5</td>\n",
       "      <td>0</td>\n",
       "      <td>0</td>\n",
       "      <td>Buy</td>\n",
       "    </tr>\n",
       "  </tbody>\n",
       "</table>\n",
       "</div>"
      ],
      "text/plain": [
       "              Company  Shares Ticker              Sector Mid-price (p)  \\\n",
       "0                  3i    4812    III  Financial Services      1,099.50   \n",
       "1       Admiral Group    1309    ADM   Nonlife Insurance      2,115.00   \n",
       "2  Anglo American plc    5349    AAL              Mining      1,744.00   \n",
       "3         Antofagasta    3940   ANTO              Mining         848.2   \n",
       "4       Ashtead Group    9769    AHT    Support Services      2,207.00   \n",
       "\n",
       "   Change Our view  Brokers  Strong Buy  Buy  Neutral  Sell  Strong Sell  \\\n",
       "0  0.0171     Hold        5         NaN    4        1     0            0   \n",
       "1  -0.42%     Hold       18         NaN    2        6     7            3   \n",
       "2  0.0154     Hold       24         NaN   15        6     2            0   \n",
       "3  0.0326     Hold       21         NaN    8        9     3            0   \n",
       "4  0.0347      Buy       17         NaN   12        5     0            0   \n",
       "\n",
       "  Recommendation  \n",
       "0            Buy  \n",
       "1    Underweight  \n",
       "2            Buy  \n",
       "3     Overweight  \n",
       "4            Buy  "
      ]
     },
     "execution_count": 2,
     "metadata": {},
     "output_type": "execute_result"
    }
   ],
   "source": [
    "stock_df=pd.read_csv('FTSE100.csv')\n",
    "stock_df.head()"
   ]
  },
  {
   "cell_type": "markdown",
   "metadata": {},
   "source": [
    "Reading the FTSE100 file and displaying the top 5 entries to show  visual arrangement of the data in the dataset"
   ]
  },
  {
   "cell_type": "code",
   "execution_count": 3,
   "metadata": {},
   "outputs": [
    {
     "name": "stdout",
     "output_type": "stream",
     "text": [
      "<class 'pandas.core.frame.DataFrame'>\n",
      "RangeIndex: 101 entries, 0 to 100\n",
      "Data columns (total 14 columns):\n",
      " #   Column          Non-Null Count  Dtype  \n",
      "---  ------          --------------  -----  \n",
      " 0   Company         101 non-null    object \n",
      " 1   Shares          101 non-null    int64  \n",
      " 2   Ticker          101 non-null    object \n",
      " 3   Sector          101 non-null    object \n",
      " 4   Mid-price (p)   101 non-null    object \n",
      " 5   Change          101 non-null    object \n",
      " 6   Our view        101 non-null    object \n",
      " 7   Brokers         101 non-null    int64  \n",
      " 8   Strong Buy      0 non-null      float64\n",
      " 9   Buy             101 non-null    int64  \n",
      " 10  Neutral         101 non-null    int64  \n",
      " 11  Sell            101 non-null    int64  \n",
      " 12  Strong Sell     101 non-null    int64  \n",
      " 13  Recommendation  101 non-null    object \n",
      "dtypes: float64(1), int64(6), object(7)\n",
      "memory usage: 11.2+ KB\n"
     ]
    }
   ],
   "source": [
    "stock_df.info()"
   ]
  },
  {
   "cell_type": "markdown",
   "metadata": {},
   "source": [
    "The dataset consists of 101 entries on financial companies, providing key details such as company names, shares, stock tickers, sectors, mid-prices, changes, and analysts' views. \n",
    "\n",
    "The 'Strong Buy' column has null values. "
   ]
  },
  {
   "cell_type": "code",
   "execution_count": 4,
   "metadata": {},
   "outputs": [
    {
     "data": {
      "text/html": [
       "<div>\n",
       "<style scoped>\n",
       "    .dataframe tbody tr th:only-of-type {\n",
       "        vertical-align: middle;\n",
       "    }\n",
       "\n",
       "    .dataframe tbody tr th {\n",
       "        vertical-align: top;\n",
       "    }\n",
       "\n",
       "    .dataframe thead th {\n",
       "        text-align: right;\n",
       "    }\n",
       "</style>\n",
       "<table border=\"1\" class=\"dataframe\">\n",
       "  <thead>\n",
       "    <tr style=\"text-align: right;\">\n",
       "      <th></th>\n",
       "      <th>Shares</th>\n",
       "      <th>Brokers</th>\n",
       "      <th>Strong Buy</th>\n",
       "      <th>Buy</th>\n",
       "      <th>Neutral</th>\n",
       "      <th>Sell</th>\n",
       "      <th>Strong Sell</th>\n",
       "    </tr>\n",
       "  </thead>\n",
       "  <tbody>\n",
       "    <tr>\n",
       "      <th>count</th>\n",
       "      <td>101.000000</td>\n",
       "      <td>101.000000</td>\n",
       "      <td>0.0</td>\n",
       "      <td>101.000000</td>\n",
       "      <td>101.000000</td>\n",
       "      <td>101.000000</td>\n",
       "      <td>101.000000</td>\n",
       "    </tr>\n",
       "    <tr>\n",
       "      <th>mean</th>\n",
       "      <td>5281.792079</td>\n",
       "      <td>16.851485</td>\n",
       "      <td>NaN</td>\n",
       "      <td>7.099010</td>\n",
       "      <td>6.198020</td>\n",
       "      <td>2.049505</td>\n",
       "      <td>0.722772</td>\n",
       "    </tr>\n",
       "    <tr>\n",
       "      <th>std</th>\n",
       "      <td>3006.725858</td>\n",
       "      <td>4.744230</td>\n",
       "      <td>NaN</td>\n",
       "      <td>4.253246</td>\n",
       "      <td>3.307627</td>\n",
       "      <td>2.155812</td>\n",
       "      <td>1.001187</td>\n",
       "    </tr>\n",
       "    <tr>\n",
       "      <th>min</th>\n",
       "      <td>36.000000</td>\n",
       "      <td>0.000000</td>\n",
       "      <td>NaN</td>\n",
       "      <td>0.000000</td>\n",
       "      <td>0.000000</td>\n",
       "      <td>0.000000</td>\n",
       "      <td>0.000000</td>\n",
       "    </tr>\n",
       "    <tr>\n",
       "      <th>25%</th>\n",
       "      <td>3015.000000</td>\n",
       "      <td>14.000000</td>\n",
       "      <td>NaN</td>\n",
       "      <td>4.000000</td>\n",
       "      <td>4.000000</td>\n",
       "      <td>0.000000</td>\n",
       "      <td>0.000000</td>\n",
       "    </tr>\n",
       "    <tr>\n",
       "      <th>50%</th>\n",
       "      <td>5349.000000</td>\n",
       "      <td>17.000000</td>\n",
       "      <td>NaN</td>\n",
       "      <td>7.000000</td>\n",
       "      <td>6.000000</td>\n",
       "      <td>1.000000</td>\n",
       "      <td>0.000000</td>\n",
       "    </tr>\n",
       "    <tr>\n",
       "      <th>75%</th>\n",
       "      <td>7896.000000</td>\n",
       "      <td>20.000000</td>\n",
       "      <td>NaN</td>\n",
       "      <td>10.000000</td>\n",
       "      <td>9.000000</td>\n",
       "      <td>3.000000</td>\n",
       "      <td>1.000000</td>\n",
       "    </tr>\n",
       "    <tr>\n",
       "      <th>max</th>\n",
       "      <td>9906.000000</td>\n",
       "      <td>29.000000</td>\n",
       "      <td>NaN</td>\n",
       "      <td>16.000000</td>\n",
       "      <td>16.000000</td>\n",
       "      <td>10.000000</td>\n",
       "      <td>4.000000</td>\n",
       "    </tr>\n",
       "  </tbody>\n",
       "</table>\n",
       "</div>"
      ],
      "text/plain": [
       "            Shares     Brokers  Strong Buy         Buy     Neutral  \\\n",
       "count   101.000000  101.000000         0.0  101.000000  101.000000   \n",
       "mean   5281.792079   16.851485         NaN    7.099010    6.198020   \n",
       "std    3006.725858    4.744230         NaN    4.253246    3.307627   \n",
       "min      36.000000    0.000000         NaN    0.000000    0.000000   \n",
       "25%    3015.000000   14.000000         NaN    4.000000    4.000000   \n",
       "50%    5349.000000   17.000000         NaN    7.000000    6.000000   \n",
       "75%    7896.000000   20.000000         NaN   10.000000    9.000000   \n",
       "max    9906.000000   29.000000         NaN   16.000000   16.000000   \n",
       "\n",
       "             Sell  Strong Sell  \n",
       "count  101.000000   101.000000  \n",
       "mean     2.049505     0.722772  \n",
       "std      2.155812     1.001187  \n",
       "min      0.000000     0.000000  \n",
       "25%      0.000000     0.000000  \n",
       "50%      1.000000     0.000000  \n",
       "75%      3.000000     1.000000  \n",
       "max     10.000000     4.000000  "
      ]
     },
     "execution_count": 4,
     "metadata": {},
     "output_type": "execute_result"
    }
   ],
   "source": [
    "stock_df.describe()"
   ]
  },
  {
   "cell_type": "code",
   "execution_count": 5,
   "metadata": {},
   "outputs": [
    {
     "data": {
      "text/html": [
       "<div>\n",
       "<style scoped>\n",
       "    .dataframe tbody tr th:only-of-type {\n",
       "        vertical-align: middle;\n",
       "    }\n",
       "\n",
       "    .dataframe tbody tr th {\n",
       "        vertical-align: top;\n",
       "    }\n",
       "\n",
       "    .dataframe thead th {\n",
       "        text-align: right;\n",
       "    }\n",
       "</style>\n",
       "<table border=\"1\" class=\"dataframe\">\n",
       "  <thead>\n",
       "    <tr style=\"text-align: right;\">\n",
       "      <th></th>\n",
       "      <th>Shares</th>\n",
       "      <th>Brokers</th>\n",
       "    </tr>\n",
       "  </thead>\n",
       "  <tbody>\n",
       "    <tr>\n",
       "      <th>count</th>\n",
       "      <td>101.000000</td>\n",
       "      <td>101.000000</td>\n",
       "    </tr>\n",
       "    <tr>\n",
       "      <th>mean</th>\n",
       "      <td>5281.792079</td>\n",
       "      <td>16.851485</td>\n",
       "    </tr>\n",
       "    <tr>\n",
       "      <th>std</th>\n",
       "      <td>3006.725858</td>\n",
       "      <td>4.744230</td>\n",
       "    </tr>\n",
       "    <tr>\n",
       "      <th>min</th>\n",
       "      <td>36.000000</td>\n",
       "      <td>0.000000</td>\n",
       "    </tr>\n",
       "    <tr>\n",
       "      <th>25%</th>\n",
       "      <td>3015.000000</td>\n",
       "      <td>14.000000</td>\n",
       "    </tr>\n",
       "    <tr>\n",
       "      <th>50%</th>\n",
       "      <td>5349.000000</td>\n",
       "      <td>17.000000</td>\n",
       "    </tr>\n",
       "    <tr>\n",
       "      <th>75%</th>\n",
       "      <td>7896.000000</td>\n",
       "      <td>20.000000</td>\n",
       "    </tr>\n",
       "    <tr>\n",
       "      <th>max</th>\n",
       "      <td>9906.000000</td>\n",
       "      <td>29.000000</td>\n",
       "    </tr>\n",
       "  </tbody>\n",
       "</table>\n",
       "</div>"
      ],
      "text/plain": [
       "            Shares     Brokers\n",
       "count   101.000000  101.000000\n",
       "mean   5281.792079   16.851485\n",
       "std    3006.725858    4.744230\n",
       "min      36.000000    0.000000\n",
       "25%    3015.000000   14.000000\n",
       "50%    5349.000000   17.000000\n",
       "75%    7896.000000   20.000000\n",
       "max    9906.000000   29.000000"
      ]
     },
     "execution_count": 5,
     "metadata": {},
     "output_type": "execute_result"
    }
   ],
   "source": [
    "stock_df[['Shares', 'Brokers']].describe()"
   ]
  },
  {
   "cell_type": "markdown",
   "metadata": {},
   "source": [
    "The mean of shares is 5282, showcasing significant variability with a minimum of 36 and a maximum of 9906. \n",
    "The average broker count is at 16.85, with notable diversity and a range from 0 to 29 brokers.\n",
    "The quartile information underlines the spread of data, with 25% of companies having fewer than 3015 shares and 14  brokers. \n",
    "Companies with 0 brokers add a warrant for further investigation into the distinctive business models, the analysis illuminates the heterogeneous nature of financial companies suggesting avenues for deeper exploration"
   ]
  },
  {
   "cell_type": "code",
   "execution_count": 6,
   "metadata": {},
   "outputs": [
    {
     "data": {
      "text/html": [
       "<div>\n",
       "<style scoped>\n",
       "    .dataframe tbody tr th:only-of-type {\n",
       "        vertical-align: middle;\n",
       "    }\n",
       "\n",
       "    .dataframe tbody tr th {\n",
       "        vertical-align: top;\n",
       "    }\n",
       "\n",
       "    .dataframe thead th {\n",
       "        text-align: right;\n",
       "    }\n",
       "</style>\n",
       "<table border=\"1\" class=\"dataframe\">\n",
       "  <thead>\n",
       "    <tr style=\"text-align: right;\">\n",
       "      <th></th>\n",
       "      <th>Shares</th>\n",
       "      <th>Brokers</th>\n",
       "    </tr>\n",
       "  </thead>\n",
       "  <tbody>\n",
       "    <tr>\n",
       "      <th>Shares</th>\n",
       "      <td>1.000000</td>\n",
       "      <td>-0.029213</td>\n",
       "    </tr>\n",
       "    <tr>\n",
       "      <th>Brokers</th>\n",
       "      <td>-0.029213</td>\n",
       "      <td>1.000000</td>\n",
       "    </tr>\n",
       "  </tbody>\n",
       "</table>\n",
       "</div>"
      ],
      "text/plain": [
       "           Shares   Brokers\n",
       "Shares   1.000000 -0.029213\n",
       "Brokers -0.029213  1.000000"
      ]
     },
     "execution_count": 6,
     "metadata": {},
     "output_type": "execute_result"
    }
   ],
   "source": [
    "correlation_matrix = stock_df[['Shares', 'Brokers']].corr()\n",
    "correlation_matrix"
   ]
  },
  {
   "cell_type": "markdown",
   "metadata": {},
   "source": [
    "The correlation matrix between shares and brokers is a weak negative correlation of -0.03, impling on average the companies with higher numbers of shares exhibit a slight decrease in the count of associated brokers\n",
    "\n",
    "The correlation is minimal, suggesting that the relationship between shares and brokers is not a dominant factor in in this scenario. \n",
    "\n",
    "The findings have implications for resource allocation and operational considerations within financial companies.\n"
   ]
  },
  {
   "cell_type": "code",
   "execution_count": 7,
   "metadata": {},
   "outputs": [
    {
     "data": {
      "text/plain": [
       "Support Services                       8\n",
       "Media                                  7\n",
       "Mining                                 6\n",
       "Banks                                  5\n",
       "Household Goods & Home Construction    5\n",
       "Travel & Leisure                       5\n",
       "Life Insurance                         5\n",
       "Financial Services                     5\n",
       "Food & Drug Retailers                  4\n",
       "General Retailers                      4\n",
       "Gas, Water & Multi-utilities           4\n",
       "Software & Computer Services           3\n",
       "General Industrials                    3\n",
       "Real Estate Investment Trusts          3\n",
       "Oil & Gas Producers                    3\n",
       "Nonlife Insurance                      3\n",
       "Aerospace & Defence                    2\n",
       "Tobacco                                2\n",
       "Pharmaceuticals & Biotechnology        2\n",
       "Chemicals                              2\n",
       "Personal Goods                         2\n",
       "Health Care Equipment & Services       2\n",
       "Beverages                              2\n",
       "Industrial Metals & Mining             1\n",
       "Forestry & Paper                       1\n",
       "Non-life Insurance                     1\n",
       "Retail hospitality                     1\n",
       "Industrial Engineering                 1\n",
       "Food and Drink                         1\n",
       "Automobiles & Parts                    1\n",
       "Food Producers                         1\n",
       "Electronic & Electrical Equipment      1\n",
       "Electricity                            1\n",
       "Fixed Line Telecommunications          1\n",
       "Construction & Materials               1\n",
       "Mobile Telecommunications              1\n",
       "Equity Investment Instruments          1\n",
       "Name: Sector, dtype: int64"
      ]
     },
     "execution_count": 7,
     "metadata": {},
     "output_type": "execute_result"
    }
   ],
   "source": [
    "sector_distribution = stock_df['Sector'].value_counts()\n",
    "sector_distribution"
   ]
  },
  {
   "cell_type": "markdown",
   "metadata": {},
   "source": [
    "Support Services emerges as the most prominent sector with 8 companies, followed closely by Media with 7 and Mining with 6. Finance and insurance sectors, including Banks, Financial Services and Life Insurance, are well represented, each having 5 companies. \n",
    "\n",
    "Certain sectors, such as Industrial Metals & Mining, Equity Investment Instruments and Retail hospitality, have  1 company each, indicating a very limited presence. \n",
    "\n",
    "The findings suggest potential implications for portfolio diversification and risk management, particularly in sectors with higher concentrations.\n"
   ]
  },
  {
   "cell_type": "code",
   "execution_count": 8,
   "metadata": {},
   "outputs": [
    {
     "data": {
      "text/plain": [
       "Overweight     33\n",
       "Buy            25\n",
       "Neutral        21\n",
       "Underweight    14\n",
       "Strong Buy      6\n",
       "Sell            1\n",
       "Strong Sell     1\n",
       "Name: Recommendation, dtype: int64"
      ]
     },
     "execution_count": 8,
     "metadata": {},
     "output_type": "execute_result"
    }
   ],
   "source": [
    "recommendation_distribution = stock_df['Recommendation'].value_counts()\n",
    "recommendation_distribution"
   ]
  },
  {
   "cell_type": "markdown",
   "metadata": {},
   "source": [
    "The analysis of recommendation distribution in the stock dataset highlights a prevailing positive sentiment among financial analysts.\n",
    "\n",
    "Overweight recommendations are the most frequent, indicating optimism, followed by a significant number of Buy recommendations.\n",
    "Negative sentiments, represented by Strong Sell and Sell, are infrequent, emphasizing the overall positive outlook. \n",
    "\n",
    "The scarcity of negative recommendations underscores the need for continuous monitoring and adaptability in investment strategies to navigate market dynamics effectively."
   ]
  },
  {
   "cell_type": "code",
   "execution_count": 9,
   "metadata": {},
   "outputs": [
    {
     "data": {
      "text/plain": [
       "Brokers  Recommendation\n",
       "0        Strong Sell       1\n",
       "5        Buy               1\n",
       "8        Strong Buy        1\n",
       "10       Buy               1\n",
       "         Strong Buy        1\n",
       "11       Overweight        2\n",
       "         Buy               1\n",
       "         Neutral           1\n",
       "         Strong Buy        1\n",
       "         Underweight       1\n",
       "12       Overweight        3\n",
       "         Neutral           2\n",
       "         Buy               1\n",
       "         Underweight       1\n",
       "13       Overweight        2\n",
       "         Strong Buy        2\n",
       "         Buy               1\n",
       "         Underweight       1\n",
       "14       Neutral           3\n",
       "         Buy               1\n",
       "         Overweight        1\n",
       "15       Neutral           6\n",
       "         Overweight        3\n",
       "         Underweight       3\n",
       "16       Overweight        3\n",
       "         Neutral           2\n",
       "         Sell              1\n",
       "17       Buy               4\n",
       "         Neutral           1\n",
       "         Overweight        1\n",
       "         Underweight       1\n",
       "18       Overweight        5\n",
       "         Buy               2\n",
       "         Neutral           2\n",
       "         Underweight       2\n",
       "         Strong Buy        1\n",
       "19       Buy               2\n",
       "         Neutral           2\n",
       "         Overweight        2\n",
       "         Underweight       2\n",
       "20       Buy               4\n",
       "         Overweight        2\n",
       "         Underweight       1\n",
       "21       Overweight        6\n",
       "         Buy               1\n",
       "         Underweight       1\n",
       "22       Neutral           1\n",
       "23       Overweight        2\n",
       "         Neutral           1\n",
       "24       Buy               1\n",
       "25       Buy               1\n",
       "         Overweight        1\n",
       "         Underweight       1\n",
       "26       Buy               1\n",
       "27       Buy               1\n",
       "28       Buy               1\n",
       "29       Buy               1\n",
       "Name: Recommendation, dtype: int64"
      ]
     },
     "execution_count": 9,
     "metadata": {},
     "output_type": "execute_result"
    }
   ],
   "source": [
    "broker_recommendations = stock_df.groupby('Brokers')['Recommendation'].value_counts()\n",
    "broker_recommendations"
   ]
  },
  {
   "cell_type": "markdown",
   "metadata": {},
   "source": [
    "Brokers 8, 10 and 13 mainly provide positive recommendations, indicating a bullish outlook, while Brokers 14, 15 and 18 adopt a more cautious approach. \n",
    "Broker 15 stands out for its comprehensive spectrum of recommendations, showing a nuanced perspective on various companies.\n",
    "\n",
    "This information is crucial for investors, highlighting the need to consider recommendations from a diverse set of brokers and conduct due diligence on track records, it also provides valuable insights for dynamic portfolio adjustments aligned with the prevailing sentiments expressed by different brokers in the stock market."
   ]
  },
  {
   "cell_type": "code",
   "execution_count": 10,
   "metadata": {},
   "outputs": [
    {
     "data": {
      "image/png": "[encoded data removed]",
      "text/plain": [
       "<Figure size 720x576 with 1 Axes>"
      ]
     },
     "metadata": {
      "needs_background": "light"
     },
     "output_type": "display_data"
    }
   ],
   "source": [
    "plt.figure(figsize=(10,8))\n",
    "sns.countplot(x='Recommendation', data=stock_df)\n",
    "plt.title('Distribution of Recommendations')\n",
    "plt.xticks(rotation=90)\n",
    "plt.show()"
   ]
  },
  {
   "cell_type": "markdown",
   "metadata": {},
   "source": [
    "A visual Bargraph showing the distribution of reccommendations"
   ]
  },
  {
   "cell_type": "code",
   "execution_count": 11,
   "metadata": {},
   "outputs": [
    {
     "data": {
      "image/png": "[encoded data removed]",
      "text/plain": [
       "<Figure size 432x288 with 1 Axes>"
      ]
     },
     "metadata": {
      "needs_background": "light"
     },
     "output_type": "display_data"
    }
   ],
   "source": [
    "sns.boxplot(x=stock_df['Shares'])\n",
    "plt.title('Boxplot of Shares')\n",
    "plt.show()"
   ]
  },
  {
   "cell_type": "markdown",
   "metadata": {},
   "source": [
    "The median share value is  5000, with a skew towards lower values. The 25th and 75th percentiles stand at 3000 and 7000, respectively. The minimum and maximum values are 2000 and 10000, with a single outlier at 30000. "
   ]
  },
  {
   "cell_type": "code",
   "execution_count": null,
   "metadata": {},
   "outputs": [],
   "source": []
  }
 ],
 "metadata": {
  "kernelspec": {
   "display_name": "Python 3",
   "language": "python",
   "name": "python3"
  },
  "language_info": {
   "codemirror_mode": {
    "name": "ipython",
    "version": 3
   },
   "file_extension": ".py",
   "mimetype": "text/x-python",
   "name": "python",
   "nbconvert_exporter": "python",
   "pygments_lexer": "ipython3",
   "version": "3.7.0"
  }
 },
 "nbformat": 4,
 "nbformat_minor": 2
}
